{
  "cells": [
    {
      "cell_type": "markdown",
      "metadata": {
        "id": "KZzpBNbWJ0Bn"
      },
      "source": [
        "## Multiple Input Multiple Weight Single Output"
      ]
    },
    {
      "cell_type": "code",
      "execution_count": 1,
      "metadata": {
        "id": "dqMkZwVQJz8f"
      },
      "outputs": [],
      "source": [
        "from tqdm import tqdm"
      ]
    },
    {
      "cell_type": "code",
      "execution_count": 2,
      "metadata": {
        "id": "bIjnNQ9AJz4f"
      },
      "outputs": [],
      "source": [
        "def forward_pass(feature1, feature2, w1, w2):\n",
        "    prediction1 = feature1*w1\n",
        "    prediction2 = feature2*w2\n",
        "    prediction = prediction1+prediction2\n",
        "    return round(prediction,2)\n",
        "    \n",
        "def calculate_error(actual_output, prediction):\n",
        "    error = actual_output - prediction\n",
        "    return round(error,2)\n",
        "\n",
        "def backward_pass(error, w1, w2):\n",
        "    if error > 0:\n",
        "        w1 = w1 + 0.2\n",
        "        w2 = w2 + 0.2\n",
        "    elif error < 0:\n",
        "        w1 = w1 - 0.2\n",
        "        w2 = w2 - 0.2\n",
        "        \n",
        "    return round(w1,2),round(w2,2)\n",
        "    \n"
      ]
    },
    {
      "cell_type": "code",
      "execution_count": 3,
      "metadata": {
        "id": "WEeoScjDJzze"
      },
      "outputs": [],
      "source": [
        "data = [5, 10]\n",
        "actual_output = 10\n",
        "w1 = 0.5\n",
        "w2 = 0.5"
      ]
    },
    {
      "cell_type": "code",
      "execution_count": 4,
      "metadata": {
        "colab": {
          "base_uri": "https://localhost:8080/"
        },
        "id": "AhU3qxg1Jzv3",
        "outputId": "786062ec-4110-44c3-a8f9-a0564c46da07"
      },
      "outputs": [
        {
          "name": "stderr",
          "output_type": "stream",
          "text": [
            "100%|██████████| 10/10 [00:00<00:00, 34721.06it/s]"
          ]
        },
        {
          "name": "stdout",
          "output_type": "stream",
          "text": [
            "Prediction :  7.5\n",
            "Error :  2.5\n",
            "Updated Weight :  0.7 0.7\n",
            "==============================\n",
            "Prediction :  10.5\n",
            "Error :  -0.5\n",
            "Updated Weight :  0.5 0.5\n",
            "==============================\n",
            "Prediction :  7.5\n",
            "Error :  2.5\n",
            "Updated Weight :  0.7 0.7\n",
            "==============================\n",
            "Prediction :  10.5\n",
            "Error :  -0.5\n",
            "Updated Weight :  0.5 0.5\n",
            "==============================\n",
            "Prediction :  7.5\n",
            "Error :  2.5\n",
            "Updated Weight :  0.7 0.7\n",
            "==============================\n",
            "Prediction :  10.5\n",
            "Error :  -0.5\n",
            "Updated Weight :  0.5 0.5\n",
            "==============================\n",
            "Prediction :  7.5\n",
            "Error :  2.5\n",
            "Updated Weight :  0.7 0.7\n",
            "==============================\n",
            "Prediction :  10.5\n",
            "Error :  -0.5\n",
            "Updated Weight :  0.5 0.5\n",
            "==============================\n",
            "Prediction :  7.5\n",
            "Error :  2.5\n",
            "Updated Weight :  0.7 0.7\n",
            "==============================\n",
            "Prediction :  10.5\n",
            "Error :  -0.5\n",
            "Updated Weight :  0.5 0.5\n",
            "==============================\n"
          ]
        },
        {
          "name": "stderr",
          "output_type": "stream",
          "text": [
            "\n"
          ]
        }
      ],
      "source": [
        "for i in tqdm(range(10)):\n",
        "    prediction = forward_pass(feature1=data[0], feature2=data[1], w1=w1, w2=w2)\n",
        "    error = calculate_error(actual_output=actual_output, prediction=prediction)\n",
        "    w1, w2 = backward_pass(error=error, w1=w1, w2=w2)\n",
        "    print(\"Prediction : \", prediction)\n",
        "    print(\"Error : \", error)\n",
        "    print(\"Updated Weight : \", w1, w2)\n",
        "    print(\"==============================\")"
      ]
    },
    {
      "cell_type": "code",
      "execution_count": null,
      "metadata": {
        "id": "R1RKqCQqJzsO"
      },
      "outputs": [],
      "source": []
    },
    {
      "cell_type": "code",
      "execution_count": null,
      "metadata": {
        "id": "DOQg-bg4JzoH"
      },
      "outputs": [],
      "source": []
    },
    {
      "cell_type": "code",
      "execution_count": null,
      "metadata": {
        "id": "ugRX08WaJzkn"
      },
      "outputs": [],
      "source": []
    },
    {
      "cell_type": "code",
      "execution_count": null,
      "metadata": {
        "id": "sxP63gbOJzhX"
      },
      "outputs": [],
      "source": []
    },
    {
      "cell_type": "code",
      "execution_count": null,
      "metadata": {
        "id": "mBHPD3p_Jzdn"
      },
      "outputs": [],
      "source": []
    },
    {
      "cell_type": "code",
      "execution_count": null,
      "metadata": {
        "id": "MuLGI46vJxrQ"
      },
      "outputs": [],
      "source": []
    }
  ],
  "metadata": {
    "colab": {
      "collapsed_sections": [],
      "provenance": []
    },
    "kernelspec": {
      "display_name": "Python 3.10.5 64-bit",
      "language": "python",
      "name": "python3"
    },
    "language_info": {
      "codemirror_mode": {
        "name": "ipython",
        "version": 3
      },
      "file_extension": ".py",
      "mimetype": "text/x-python",
      "name": "python",
      "nbconvert_exporter": "python",
      "pygments_lexer": "ipython3",
      "version": "3.10.5"
    },
    "vscode": {
      "interpreter": {
        "hash": "aee8b7b246df8f9039afb4144a1f6fd8d2ca17a180786b69acc140d282b71a49"
      }
    }
  },
  "nbformat": 4,
  "nbformat_minor": 0
}
