{
  "cells": [
    {
      "cell_type": "markdown",
      "metadata": {},
      "source": []
    },
    {
      "cell_type": "markdown",
      "metadata": {
        "id": "Q0LUSbLbI5VS"
      },
      "source": [
        "## Single Input Single Weight Single Output"
      ]
    },
    {
      "cell_type": "markdown",
      "metadata": {
        "id": "IxWFLI5JI5Ry"
      },
      "source": [
        "### Steps\n",
        "- Input (Data)\n",
        "- Output (Prediction)\n",
        "    - Forward Pass : Predicts some Value\n",
        "    - Error : Calculate Error\n",
        "    - Backward Pass : Inform network about error\n",
        "    "
      ]
    },
    {
      "cell_type": "code",
      "execution_count": 1,
      "metadata": {
        "id": "YvHjcN4jI5OT"
      },
      "outputs": [],
      "source": [
        "from tqdm import tqdm"
      ]
    },
    {
      "cell_type": "code",
      "execution_count": 2,
      "metadata": {
        "id": "m3RkyrhPJHJk"
      },
      "outputs": [],
      "source": [
        "def forward_pass(data, weight):\n",
        "    prediction = data*weight\n",
        "    return round(prediction,2)\n",
        "    \n",
        "def calculate_error(actual_output, prediction):\n",
        "    error = actual_output - prediction\n",
        "    return round(error,2)\n",
        "\n",
        "def backward_pass(error, weight):\n",
        "    if error > 0:\n",
        "        weight = weight + 0.2\n",
        "    elif error < 0:\n",
        "        weight = weight - 0.2\n",
        "    \n",
        "    return round(weight,2)\n",
        "    \n"
      ]
    },
    {
      "cell_type": "code",
      "execution_count": 3,
      "metadata": {
        "id": "iWgP-ITZJHFc"
      },
      "outputs": [],
      "source": [
        "data = 5\n",
        "actual_output = 10\n",
        "weight = 0.5"
      ]
    },
    {
      "cell_type": "code",
      "execution_count": 4,
      "metadata": {
        "colab": {
          "base_uri": "https://localhost:8080/"
        },
        "id": "PdMb3saUJHA8",
        "outputId": "90122ee4-e7c1-4f40-d992-71b16c71d6d5"
      },
      "outputs": [
        {
          "name": "stderr",
          "output_type": "stream",
          "text": [
            "100%|██████████| 10/10 [00:00<00:00, 46707.17it/s]"
          ]
        },
        {
          "name": "stdout",
          "output_type": "stream",
          "text": [
            "Prediction :  2.5\n",
            "Error :  7.5\n",
            "Updated Weight :  0.7\n",
            "==============================\n",
            "Prediction :  3.5\n",
            "Error :  6.5\n",
            "Updated Weight :  0.9\n",
            "==============================\n",
            "Prediction :  4.5\n",
            "Error :  5.5\n",
            "Updated Weight :  1.1\n",
            "==============================\n",
            "Prediction :  5.5\n",
            "Error :  4.5\n",
            "Updated Weight :  1.3\n",
            "==============================\n",
            "Prediction :  6.5\n",
            "Error :  3.5\n",
            "Updated Weight :  1.5\n",
            "==============================\n",
            "Prediction :  7.5\n",
            "Error :  2.5\n",
            "Updated Weight :  1.7\n",
            "==============================\n",
            "Prediction :  8.5\n",
            "Error :  1.5\n",
            "Updated Weight :  1.9\n",
            "==============================\n",
            "Prediction :  9.5\n",
            "Error :  0.5\n",
            "Updated Weight :  2.1\n",
            "==============================\n",
            "Prediction :  10.5\n",
            "Error :  -0.5\n",
            "Updated Weight :  1.9\n",
            "==============================\n",
            "Prediction :  9.5\n",
            "Error :  0.5\n",
            "Updated Weight :  2.1\n",
            "==============================\n"
          ]
        },
        {
          "name": "stderr",
          "output_type": "stream",
          "text": [
            "\n"
          ]
        }
      ],
      "source": [
        "for i in tqdm(range(10)):\n",
        "    prediction = forward_pass(data=data, weight=weight)\n",
        "    error = calculate_error(actual_output=actual_output, prediction=prediction)\n",
        "    weight = backward_pass(error=error, weight=weight)\n",
        "    print(\"Prediction : \", prediction)\n",
        "    print(\"Error : \", error)\n",
        "    print(\"Updated Weight : \", weight)\n",
        "    print(\"==============================\")"
      ]
    },
    {
      "cell_type": "code",
      "execution_count": null,
      "metadata": {
        "id": "gqT1ynnqJFm0"
      },
      "outputs": [],
      "source": []
    },
    {
      "cell_type": "code",
      "execution_count": null,
      "metadata": {
        "id": "DqbFgx31I5Kq"
      },
      "outputs": [],
      "source": []
    },
    {
      "cell_type": "code",
      "execution_count": null,
      "metadata": {
        "id": "El5vp2yYI4ty"
      },
      "outputs": [],
      "source": []
    },
    {
      "cell_type": "code",
      "execution_count": null,
      "metadata": {
        "id": "zYWEznaNI3Hp"
      },
      "outputs": [],
      "source": []
    }
  ],
  "metadata": {
    "colab": {
      "collapsed_sections": [],
      "provenance": []
    },
    "kernelspec": {
      "display_name": "Python 3.10.5 64-bit",
      "language": "python",
      "name": "python3"
    },
    "language_info": {
      "codemirror_mode": {
        "name": "ipython",
        "version": 3
      },
      "file_extension": ".py",
      "mimetype": "text/x-python",
      "name": "python",
      "nbconvert_exporter": "python",
      "pygments_lexer": "ipython3",
      "version": "3.10.5"
    },
    "vscode": {
      "interpreter": {
        "hash": "aee8b7b246df8f9039afb4144a1f6fd8d2ca17a180786b69acc140d282b71a49"
      }
    }
  },
  "nbformat": 4,
  "nbformat_minor": 0
}
