{
  "cells": [
    {
      "cell_type": "markdown",
      "metadata": {
        "id": "Iqcy-kl-MfYm"
      },
      "source": [
        "## Multiple Input Multiple Weight Multiple Output Multiple Layers"
      ]
    },
    {
      "cell_type": "code",
      "execution_count": 1,
      "metadata": {
        "id": "WpMIDFH0MfU_"
      },
      "outputs": [],
      "source": [
        "from tqdm import tqdm"
      ]
    },
    {
      "cell_type": "code",
      "execution_count": 2,
      "metadata": {
        "id": "JxuPln1PMfQn"
      },
      "outputs": [],
      "source": [
        "def forward_pass(feature1, feature2, w1, w2, w3, w4):\n",
        "    hidden_1 = feature1*w1\n",
        "    hidden_2 = feature2*w2\n",
        "    \n",
        "    prediction1 = hidden_1*w3 \n",
        "    prediction2 = hidden_2*w4    \n",
        "    prediction = prediction1+prediction2\n",
        "    return round(prediction,2)\n",
        "    \n",
        "def calculate_error(actual_output, prediction):\n",
        "    error = actual_output - prediction\n",
        "    return round(error,2)\n",
        "\n",
        "def backward_pass(error, w1, w2, w3, w4):\n",
        "    if error > 0:\n",
        "        w1 = w1 + 0.2\n",
        "        w2 = w2 + 0.2\n",
        "        w3 = w3 + 0.2\n",
        "        w4 = w4 + 0.2\n",
        "    elif error < 0:\n",
        "        w1 = w1 - 0.2\n",
        "        w2 = w2 - 0.2\n",
        "        w3 = w3 - 0.2\n",
        "        w4 = w4 - 0.2\n",
        "        \n",
        "    return round(w1,2),round(w2,2),round(w3,2),round(w4,2)\n"
      ]
    },
    {
      "cell_type": "code",
      "execution_count": 3,
      "metadata": {
        "id": "R7n5JThLMfMf"
      },
      "outputs": [],
      "source": [
        "data = [5, 10]\n",
        "actual_output = 10\n",
        "w1 = 0.02\n",
        "w2 = 0.3\n",
        "w3 = 0.6\n",
        "w4 = 0.1"
      ]
    },
    {
      "cell_type": "code",
      "execution_count": 4,
      "metadata": {
        "colab": {
          "base_uri": "https://localhost:8080/"
        },
        "id": "BOYTPvKlMfIm",
        "outputId": "884b7967-8d18-4c1d-fbfb-49b91ccb6479"
      },
      "outputs": [
        {
          "name": "stderr",
          "output_type": "stream",
          "text": [
            "100%|██████████| 10/10 [00:00<00:00, 10405.12it/s]"
          ]
        },
        {
          "name": "stdout",
          "output_type": "stream",
          "text": [
            "Prediction :  0.36\n",
            "Error :  9.64\n",
            "Updated Weight :  0.22 0.5 0.8 0.3\n",
            "==============================\n",
            "Prediction :  2.38\n",
            "Error :  7.62\n",
            "Updated Weight :  0.42 0.7 1.0 0.5\n",
            "==============================\n",
            "Prediction :  5.6\n",
            "Error :  4.4\n",
            "Updated Weight :  0.62 0.9 1.2 0.7\n",
            "==============================\n",
            "Prediction :  10.02\n",
            "Error :  -0.02\n",
            "Updated Weight :  0.42 0.7 1.0 0.5\n",
            "==============================\n",
            "Prediction :  5.6\n",
            "Error :  4.4\n",
            "Updated Weight :  0.62 0.9 1.2 0.7\n",
            "==============================\n",
            "Prediction :  10.02\n",
            "Error :  -0.02\n",
            "Updated Weight :  0.42 0.7 1.0 0.5\n",
            "==============================\n",
            "Prediction :  5.6\n",
            "Error :  4.4\n",
            "Updated Weight :  0.62 0.9 1.2 0.7\n",
            "==============================\n",
            "Prediction :  10.02\n",
            "Error :  -0.02\n",
            "Updated Weight :  0.42 0.7 1.0 0.5\n",
            "==============================\n",
            "Prediction :  5.6\n",
            "Error :  4.4\n",
            "Updated Weight :  0.62 0.9 1.2 0.7\n",
            "==============================\n",
            "Prediction :  10.02\n",
            "Error :  -0.02\n",
            "Updated Weight :  0.42 0.7 1.0 0.5\n",
            "==============================\n"
          ]
        },
        {
          "name": "stderr",
          "output_type": "stream",
          "text": [
            "\n"
          ]
        }
      ],
      "source": [
        "for i in tqdm(range(10)):\n",
        "    prediction = forward_pass(feature1=data[0], feature2=data[1], w1=w1, w2=w2, w3=w3, w4=w4)\n",
        "    error = calculate_error(actual_output=actual_output, prediction=prediction)\n",
        "    w1, w2, w3, w4 = backward_pass(error=error, w1=w1, w2=w2, w3=w3, w4=w4)\n",
        "    print(\"Prediction : \", prediction)\n",
        "    print(\"Error : \", error)\n",
        "    print(\"Updated Weight : \", w1, w2,w3,w4)\n",
        "    print(\"==============================\")"
      ]
    },
    {
      "cell_type": "code",
      "execution_count": null,
      "metadata": {
        "id": "MCXFE4YGMfE_"
      },
      "outputs": [],
      "source": [
        "  "
      ]
    },
    {
      "cell_type": "code",
      "execution_count": null,
      "metadata": {
        "id": "bbUdRiCWMfA_"
      },
      "outputs": [],
      "source": []
    }
  ],
  "metadata": {
    "colab": {
      "collapsed_sections": [],
      "provenance": []
    },
    "kernelspec": {
      "display_name": "Python 3.10.5 64-bit",
      "language": "python",
      "name": "python3"
    },
    "language_info": {
      "codemirror_mode": {
        "name": "ipython",
        "version": 3
      },
      "file_extension": ".py",
      "mimetype": "text/x-python",
      "name": "python",
      "nbconvert_exporter": "python",
      "pygments_lexer": "ipython3",
      "version": "3.10.5"
    },
    "vscode": {
      "interpreter": {
        "hash": "aee8b7b246df8f9039afb4144a1f6fd8d2ca17a180786b69acc140d282b71a49"
      }
    }
  },
  "nbformat": 4,
  "nbformat_minor": 0
}
