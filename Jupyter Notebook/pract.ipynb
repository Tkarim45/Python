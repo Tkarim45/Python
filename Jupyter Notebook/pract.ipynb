{
 "cells": [
  {
   "cell_type": "code",
   "execution_count": 3,
   "metadata": {},
   "outputs": [],
   "source": [
    "from selenium import webdriver"
   ]
  },
  {
   "cell_type": "code",
   "execution_count": 11,
   "metadata": {},
   "outputs": [],
   "source": [
    "Driver_path = '/Users/taimourabdulkarim/Downloads/chromedriver'\n"
   ]
  },
  {
   "cell_type": "code",
   "execution_count": 13,
   "metadata": {},
   "outputs": [
    {
     "name": "stderr",
     "output_type": "stream",
     "text": [
      "/var/folders/4k/bvfkw2qd15s8xp9zh7m3jpch0000gn/T/ipykernel_1377/4171860955.py:1: DeprecationWarning: executable_path has been deprecated, please pass in a Service object\n",
      "  driver = webdriver.Chrome(Driver_path)\n"
     ]
    }
   ],
   "source": [
    "driver = webdriver.Chrome(Driver_path)"
   ]
  },
  {
   "cell_type": "code",
   "execution_count": 14,
   "metadata": {},
   "outputs": [],
   "source": [
    "url_path = 'https://www.youtube.com/c/NetflixIndiaOfficial'\n"
   ]
  },
  {
   "cell_type": "code",
   "execution_count": 15,
   "metadata": {},
   "outputs": [],
   "source": [
    "driver.get(url_path)"
   ]
  },
  {
   "cell_type": "code",
   "execution_count": 24,
   "metadata": {},
   "outputs": [],
   "source": [
    "from selenium.webdriver.common.by import By\n",
    "videos = driver.find_elements(By.CLASS_NAME, 'style-scope ytd-grid-video-renderer')\n"
   ]
  },
  {
   "cell_type": "code",
   "execution_count": 25,
   "metadata": {},
   "outputs": [],
   "source": [
    "for video in videos:\n",
    "    titles = driver.find_elements(By.XPATH, '//*[@id=\"video-title\"]')\n"
   ]
  },
  {
   "cell_type": "code",
   "execution_count": 26,
   "metadata": {},
   "outputs": [
    {
     "name": "stdout",
     "output_type": "stream",
     "text": [
      "Darlings | Official Trailer | Alia Bhatt, Shefali Shah, Vijay Varma, Roshan Mathew | Netflix India\n",
      "Dating Red Flags Ft. Alia Bhatt, Vijay Varma, Shefali Shah | Darlings | Netflix India\n",
      "Darlings Is Now Streamings | Alia Bhatt, Shefali Shah, Vijay Varma | Netflix India\n",
      "Haanikaarak Darlings Vs Haanikaarak Heel | Darlings | Netflix India\n",
      "\n",
      "\n",
      "Fabulous Lives of Bollywood Wives: Season 2 | Official Trailer | Netflix India\n",
      "Cobra Kai: Season 5 | Official Trailer | Netflix India\n",
      "Wedding Season | Official Trailer | Netflix India\n",
      "Delhi Crime: Season 2 | Official Trailer | Netflix India\n",
      "\n",
      "\n",
      "Real Talk With The Cast of Masaba Masaba Season 2 | Masaba Gupta, Neena Gupta | Netflix India\n",
      "Fboi or Sweetboi Ft. Kusha Kapila, Masaba Gupta, Armaan & Neil | Masaba Masaba | Netflix India\n",
      "Fateh Raising The Temperature | Masaba Masaba: Season 2 | Netflix India\n",
      "Doctor K Meets Masaba | Kartik Aaryan, Masaba Gupta, Neena Gupta | Masaba Masaba Season 2\n",
      "\n",
      "\n",
      "THE GRAY MAN | Official Trailer | Netflix India\n",
      "The Gray Man Travel Package ft. @Rahul Dua | Netflix India\n",
      "Dhanush’s Best Advice To His Younger Self | The Gray Man | Netflix India #shorts\n",
      "Ryan Gosling Talks About Working With Dhanush | The Gray Man | Netflix India #shorts\n",
      "\n",
      "\n",
      "Jaadugar | Official Trailer | Jitendra Kumar, Jaaved Jaaferi, Arushi Sharma | Netflix India\n",
      "Meenu’s Magical Romance | Jaadugar | Netflix #shorts\n",
      "Behind the Scenes | Jaadugar | Jitendra Kumar, Jaaved Jaaferi, Arushi Sharma | Netflix India\n",
      "Magic Meenu Ki Cycle Trick | Jitendra Kumar, Arushi Sharma | Jaadugar | Netflix India\n",
      "\n",
      "\n",
      "Stranger Things 4 | Volume 2 Trailer | Netflix India\n",
      "Stranger Things 4 | Eddie Munson's Upside Down Guitar Scene | Netflix India\n",
      "Stranger Things 4 Volume 2 is Now Streaming! 🎸😍😍 | Netflix India #shorts\n",
      "What Went Behind Max’s Running Up That Hill Scene? | Stranger Things | Sadie Sink | Netflix India\n",
      "\n",
      "\n",
      "Ranveer Vs Wild With Bear Grylls | Official Trailer | Netflix India\n",
      "A Wild Food Journey With Bear Grylls Ft. Kishen Das | Menu Please | Ranveer Vs Wild With Bear Grylls\n",
      "Dil Darega Nahi Karega Music Video | Ranveer Singh, Kaam Bhaari & More | Ranveer Vs Wild\n",
      "Ranveer Singh's Ready For The Wild | Jungle Edition | #RanveerVsWildWithBearGrylls | Netflix India\n",
      "\n",
      "\n",
      "RRR | Now Streaming | Jr NTR, Ram Charan, Alia Bhatt | Netflix India\n",
      "Ram Charan and Jr NTR Meet For The First Time | RRR (Hindi) Movie Scene | Netflix India\n",
      "RRR Teaser | Ram Charan, Jr. NTR, S. S. Rajamouli | Netflix India\n",
      "Ram Charan Saves Jr NTR At The Party | RRR (Hindi) Movie Scene | Netflix India\n",
      "\n",
      "\n",
      "@Tanmay Bhat , @Prashasti Singh & @Rohan Joshi react to Indian Matchmaking Season 2 | Netflix India\n",
      "Reacting To Stranger Things 4 Vol 2 With @Rohan Joshi, @Kusha Kapila & Ashish | @Tanmay Bhat Reacts\n",
      "@Tanmay Bhat & Naveed React To The Blockbusterrr RRR | Netflix India\n",
      "@Tanmay Bhat Reacts to Kal Ho Naa Ho ft. Delnaaz Irani & Dheepesh Bhatt | Netflix India\n",
      "\n",
      "\n",
      "The Best Irani Cafe ft. Vijay Varma | Darlings | Menu Please | Netflix India\n",
      "A Wild Food Journey With Bear Grylls Ft. Kishen Das | Menu Please | Ranveer Vs Wild With Bear Grylls\n",
      "Dishing Delicious Secrets With Andrea Kevichüsa | Anek | Menu Please | Netflix India\n",
      "Desert Delicacies ft. Anil Kapoor, Harshvarrdhan Kapoor and Fatima Sana Shaikh | Menu Please | Thar\n",
      "\n",
      "\n",
      "Behensplaining Women In Films ft. Kusha, Srishti, Mrunal, Taapsee, Aaditi, Anchal & Amruta\n",
      "Why Are Rom-Coms Called Chick-Flicks? | @Dolly Singh, Srishti, Sushant, @Ankush Bahuguna\n",
      "The Behens Takeover New York | @Kusha Kapila & @Niharika Nm | Netflix India\n",
      "Behensplaining: Bathroom Besties | Ahsaas Channa, @Dolly Singh, @Kusha Kapila & Srishti Dixit\n",
      "\n",
      "\n"
     ]
    }
   ],
   "source": [
    "for title in titles: \n",
    "    print(title.text)"
   ]
  }
 ],
 "metadata": {
  "kernelspec": {
   "display_name": "Python 3.10.5 64-bit",
   "language": "python",
   "name": "python3"
  },
  "language_info": {
   "codemirror_mode": {
    "name": "ipython",
    "version": 3
   },
   "file_extension": ".py",
   "mimetype": "text/x-python",
   "name": "python",
   "nbconvert_exporter": "python",
   "pygments_lexer": "ipython3",
   "version": "3.10.5"
  },
  "orig_nbformat": 4,
  "vscode": {
   "interpreter": {
    "hash": "aee8b7b246df8f9039afb4144a1f6fd8d2ca17a180786b69acc140d282b71a49"
   }
  }
 },
 "nbformat": 4,
 "nbformat_minor": 2
}
