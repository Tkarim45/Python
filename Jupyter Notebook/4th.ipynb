{
  "cells": [
    {
      "cell_type": "markdown",
      "metadata": {
        "id": "C3NxUO-8KPto"
      },
      "source": [
        "## Multiple Input Multiple Weight Multiple Output"
      ]
    },
    {
      "cell_type": "code",
      "execution_count": 1,
      "metadata": {
        "id": "PXvIrg9_KPoQ"
      },
      "outputs": [],
      "source": [
        "from tqdm import tqdm"
      ]
    },
    {
      "cell_type": "code",
      "execution_count": 2,
      "metadata": {
        "id": "sccB3ESPKPfw"
      },
      "outputs": [],
      "source": [
        "def forward_pass(feature1, feature2, w1, w2):\n",
        "    prediction1 = feature1*w1\n",
        "    prediction2 = feature2*w2\n",
        "#     prediction = prediction1+prediction2\n",
        "    return round(prediction1,2), round(prediction2,2)\n",
        "    \n",
        "def calculate_error(actual_output, prediction1, prediction2):\n",
        "    error1 = actual_output[0] - prediction1\n",
        "    error2 = actual_output[1] - prediction2\n",
        "    return round(error1,2), round(error2,2)\n",
        "\n",
        "def backward_pass(error, w1, w2):\n",
        "    if error > 0:\n",
        "        w1 = w1 + 0.2\n",
        "        w2 = w2 + 0.2\n",
        "    elif error < 0:\n",
        "        w1 = w1 - 0.2\n",
        "        w2 = w2 - 0.2\n",
        "        \n",
        "    return round(w1,2),round(w2,2)\n"
      ]
    },
    {
      "cell_type": "code",
      "execution_count": 3,
      "metadata": {
        "id": "O5QRBjHUKPcA"
      },
      "outputs": [],
      "source": [
        "data = [5, 10]\n",
        "actual_output = [10, 10]\n",
        "w1 = 0.5\n",
        "w2 = 0.5"
      ]
    },
    {
      "cell_type": "code",
      "execution_count": 4,
      "metadata": {
        "colab": {
          "base_uri": "https://localhost:8080/"
        },
        "id": "TqpEWkRyKPYw",
        "outputId": "5c2ec968-8971-4080-de88-c2eed7c492ea"
      },
      "outputs": [
        {
          "name": "stderr",
          "output_type": "stream",
          "text": [
            "100%|██████████| 10/10 [00:00<00:00, 20126.22it/s]"
          ]
        },
        {
          "name": "stdout",
          "output_type": "stream",
          "text": [
            "Prediction :  2.5 5.0\n",
            "Error :  7.5 5.0\n",
            "Updated Weight :  0.7 0.7\n",
            "==============================\n",
            "Prediction :  3.5 7.0\n",
            "Error :  6.5 3.0\n",
            "Updated Weight :  0.9 0.9\n",
            "==============================\n",
            "Prediction :  4.5 9.0\n",
            "Error :  5.5 1.0\n",
            "Updated Weight :  1.1 1.1\n",
            "==============================\n",
            "Prediction :  5.5 11.0\n",
            "Error :  4.5 -1.0\n",
            "Updated Weight :  1.3 1.3\n",
            "==============================\n",
            "Prediction :  6.5 13.0\n",
            "Error :  3.5 -3.0\n",
            "Updated Weight :  1.5 1.5\n",
            "==============================\n",
            "Prediction :  7.5 15.0\n",
            "Error :  2.5 -5.0\n",
            "Updated Weight :  1.3 1.3\n",
            "==============================\n",
            "Prediction :  6.5 13.0\n",
            "Error :  3.5 -3.0\n",
            "Updated Weight :  1.5 1.5\n",
            "==============================\n",
            "Prediction :  7.5 15.0\n",
            "Error :  2.5 -5.0\n",
            "Updated Weight :  1.3 1.3\n",
            "==============================\n",
            "Prediction :  6.5 13.0\n",
            "Error :  3.5 -3.0\n",
            "Updated Weight :  1.5 1.5\n",
            "==============================\n",
            "Prediction :  7.5 15.0\n",
            "Error :  2.5 -5.0\n",
            "Updated Weight :  1.3 1.3\n",
            "==============================\n"
          ]
        },
        {
          "name": "stderr",
          "output_type": "stream",
          "text": [
            "\n"
          ]
        }
      ],
      "source": [
        "for i in tqdm(range(10)):\n",
        "    prediction1, prediction2 = forward_pass(feature1=data[0], feature2=data[1], w1=w1, w2=w2)\n",
        "    error1, error2 = calculate_error(actual_output=actual_output, prediction1=prediction1, prediction2=prediction2)\n",
        "    w1, w2 = backward_pass(error=error1+error2, w1=w1, w2=w2)\n",
        "    print(\"Prediction : \", prediction1, prediction2)\n",
        "    print(\"Error : \", error1, error2)\n",
        "    print(\"Updated Weight : \", w1, w2)\n",
        "    print(\"==============================\")"
      ]
    },
    {
      "cell_type": "code",
      "execution_count": null,
      "metadata": {
        "id": "YIIB1Me3KPVo"
      },
      "outputs": [],
      "source": []
    },
    {
      "cell_type": "code",
      "execution_count": null,
      "metadata": {
        "id": "pv-9u6jfKPSY"
      },
      "outputs": [],
      "source": []
    },
    {
      "cell_type": "code",
      "execution_count": null,
      "metadata": {
        "id": "_23Ub5EaKPPB"
      },
      "outputs": [],
      "source": []
    },
    {
      "cell_type": "code",
      "execution_count": null,
      "metadata": {
        "id": "KdmUGrq3KOt-"
      },
      "outputs": [],
      "source": []
    }
  ],
  "metadata": {
    "colab": {
      "collapsed_sections": [],
      "provenance": []
    },
    "kernelspec": {
      "display_name": "Python 3.10.5 64-bit",
      "language": "python",
      "name": "python3"
    },
    "language_info": {
      "codemirror_mode": {
        "name": "ipython",
        "version": 3
      },
      "file_extension": ".py",
      "mimetype": "text/x-python",
      "name": "python",
      "nbconvert_exporter": "python",
      "pygments_lexer": "ipython3",
      "version": "3.10.5"
    },
    "vscode": {
      "interpreter": {
        "hash": "aee8b7b246df8f9039afb4144a1f6fd8d2ca17a180786b69acc140d282b71a49"
      }
    }
  },
  "nbformat": 4,
  "nbformat_minor": 0
}
