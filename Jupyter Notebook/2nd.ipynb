{
  "cells": [
    {
      "cell_type": "markdown",
      "metadata": {
        "id": "_U7cfvMbJXTE"
      },
      "source": [
        "## Single Input Multiple Weight Single Output"
      ]
    },
    {
      "cell_type": "code",
      "execution_count": 2,
      "metadata": {
        "id": "pxjukpmaJXPc"
      },
      "outputs": [],
      "source": [
        "from tqdm import tqdm"
      ]
    },
    {
      "cell_type": "code",
      "execution_count": 3,
      "metadata": {
        "id": "FyT3fegeJXLc"
      },
      "outputs": [],
      "source": [
        "def forward_pass(data, w1, w2):\n",
        "    prediction1 = data*w1\n",
        "    prediction2 = data*w2\n",
        "    prediction = prediction1 + prediction2\n",
        "    return round(prediction,2)\n",
        "    \n",
        "def calculate_error(actual_output, prediction):\n",
        "    error = actual_output - prediction\n",
        "    return round(error,2)\n",
        "\n",
        "def backward_pass(error, w1, w2):\n",
        "    if error > 0:\n",
        "        w1 = w1 + 0.2\n",
        "        w2 = w2 + 0.2\n",
        "    elif error < 0:\n",
        "        w1 = w1 - 0.2\n",
        "        w2 = w2 - 0.2\n",
        "        \n",
        "    return round(w1,2),round(w2,2)\n",
        "    \n"
      ]
    },
    {
      "cell_type": "code",
      "execution_count": 4,
      "metadata": {
        "id": "ZZxUG392JXHt"
      },
      "outputs": [],
      "source": [
        "data = 5\n",
        "actual_output = 10\n",
        "w1 = 0.5\n",
        "w2 = 0.1"
      ]
    },
    {
      "cell_type": "code",
      "execution_count": 5,
      "metadata": {
        "colab": {
          "base_uri": "https://localhost:8080/"
        },
        "id": "vpwzdMGFJWxc",
        "outputId": "94a98da7-5a20-430d-c89a-f42ebdeb9603"
      },
      "outputs": [
        {
          "name": "stderr",
          "output_type": "stream",
          "text": [
            "100%|██████████| 10/10 [00:00<00:00, 37583.37it/s]"
          ]
        },
        {
          "name": "stdout",
          "output_type": "stream",
          "text": [
            "Prediction :  3.0\n",
            "Error :  7.0\n",
            "Updated Weight :  0.7 0.3\n",
            "==============================\n",
            "Prediction :  5.0\n",
            "Error :  5.0\n",
            "Updated Weight :  0.9 0.5\n",
            "==============================\n",
            "Prediction :  7.0\n",
            "Error :  3.0\n",
            "Updated Weight :  1.1 0.7\n",
            "==============================\n",
            "Prediction :  9.0\n",
            "Error :  1.0\n",
            "Updated Weight :  1.3 0.9\n",
            "==============================\n",
            "Prediction :  11.0\n",
            "Error :  -1.0\n",
            "Updated Weight :  1.1 0.7\n",
            "==============================\n",
            "Prediction :  9.0\n",
            "Error :  1.0\n",
            "Updated Weight :  1.3 0.9\n",
            "==============================\n",
            "Prediction :  11.0\n",
            "Error :  -1.0\n",
            "Updated Weight :  1.1 0.7\n",
            "==============================\n",
            "Prediction :  9.0\n",
            "Error :  1.0\n",
            "Updated Weight :  1.3 0.9\n",
            "==============================\n",
            "Prediction :  11.0\n",
            "Error :  -1.0\n",
            "Updated Weight :  1.1 0.7\n",
            "==============================\n",
            "Prediction :  9.0\n",
            "Error :  1.0\n",
            "Updated Weight :  1.3 0.9\n",
            "==============================\n"
          ]
        },
        {
          "name": "stderr",
          "output_type": "stream",
          "text": [
            "\n"
          ]
        }
      ],
      "source": [
        "for i in tqdm(range(10)):\n",
        "    prediction = forward_pass(data=data, w1=w1, w2=w2)\n",
        "    error = calculate_error(actual_output=actual_output, prediction=prediction)\n",
        "    w1, w2 = backward_pass(error=error, w1=w1, w2=w2)\n",
        "    print(\"Prediction : \", prediction)\n",
        "    print(\"Error : \", error)\n",
        "    print(\"Updated Weight : \", w1, w2)\n",
        "    print(\"==============================\")"
      ]
    },
    {
      "cell_type": "code",
      "execution_count": null,
      "metadata": {
        "id": "E63mQ-g7JWt1"
      },
      "outputs": [],
      "source": []
    },
    {
      "cell_type": "code",
      "execution_count": null,
      "metadata": {
        "id": "bDE1qjsBJWpl"
      },
      "outputs": [],
      "source": []
    },
    {
      "cell_type": "code",
      "execution_count": null,
      "metadata": {
        "id": "nWKj_WRhJWll"
      },
      "outputs": [],
      "source": []
    },
    {
      "cell_type": "code",
      "execution_count": null,
      "metadata": {
        "id": "DLtF8ebgJWhV"
      },
      "outputs": [],
      "source": []
    },
    {
      "cell_type": "code",
      "execution_count": null,
      "metadata": {
        "id": "8T69p9fKJWdl"
      },
      "outputs": [],
      "source": []
    },
    {
      "cell_type": "code",
      "execution_count": null,
      "metadata": {
        "id": "uXRFIkATJVAD"
      },
      "outputs": [],
      "source": []
    }
  ],
  "metadata": {
    "colab": {
      "collapsed_sections": [],
      "provenance": []
    },
    "kernelspec": {
      "display_name": "Python 3.10.5 64-bit",
      "language": "python",
      "name": "python3"
    },
    "language_info": {
      "codemirror_mode": {
        "name": "ipython",
        "version": 3
      },
      "file_extension": ".py",
      "mimetype": "text/x-python",
      "name": "python",
      "nbconvert_exporter": "python",
      "pygments_lexer": "ipython3",
      "version": "3.10.5"
    },
    "vscode": {
      "interpreter": {
        "hash": "aee8b7b246df8f9039afb4144a1f6fd8d2ca17a180786b69acc140d282b71a49"
      }
    }
  },
  "nbformat": 4,
  "nbformat_minor": 0
}
