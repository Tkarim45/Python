{
  "cells": [
    {
      "cell_type": "markdown",
      "metadata": {
        "id": "ld7-qD8-pg4h"
      },
      "source": [
        "## Fully Connected Network"
      ]
    },
    {
      "cell_type": "code",
      "execution_count": 1,
      "metadata": {
        "id": "N6ySqGl5pg05"
      },
      "outputs": [],
      "source": [
        "from tqdm import tqdm"
      ]
    },
    {
      "cell_type": "code",
      "execution_count": 2,
      "metadata": {
        "id": "47gf442Epgwa"
      },
      "outputs": [],
      "source": [
        "def forward_pass(feature1, feature2, w1, w2, w3, w4, w5, w6):\n",
        "    hidden_1 = (feature1*w1) + (feature2*w2)\n",
        "    hidden_2 = (feature1*w3) + (feature2*w4)\n",
        "    \n",
        "    prediction = (hidden_1*w5) + (hidden_2*w6)\n",
        "    return round(prediction,2)\n",
        "    \n",
        "def calculate_error(actual_output, prediction):\n",
        "    error = actual_output - prediction\n",
        "    return round(error,2)\n",
        "\n",
        "def backward_pass(error, w1, w2, w3, w4, w5, w6):\n",
        "    if error > 0:\n",
        "        w1 = w1 + 0.2\n",
        "        w2 = w2 + 0.2\n",
        "        w3 = w3 + 0.2\n",
        "        w4 = w4 + 0.2\n",
        "        w5 = w5 + 0.2\n",
        "        w6 = w6 + 0.2\n",
        "    elif error < 0:\n",
        "        w1 = w1 - 0.2\n",
        "        w2 = w2 - 0.2\n",
        "        w3 = w3 - 0.2\n",
        "        w4 = w4 - 0.2\n",
        "        w5 = w5 - 0.2\n",
        "        w6 = w6 - 0.2\n",
        "        \n",
        "    return round(w1,2),round(w2,2),round(w3,2),round(w4,2),round(w5,2),round(w6,2)\n"
      ]
    },
    {
      "cell_type": "code",
      "execution_count": 3,
      "metadata": {
        "id": "EJ0lEqY1pgsx"
      },
      "outputs": [],
      "source": [
        "data = [5, 10]\n",
        "actual_output = 10\n",
        "w1 = 0.02\n",
        "w2 = 0.3\n",
        "w3 = 0.03\n",
        "w4 = 0.2\n",
        "w5 = 0.1\n",
        "w6 = 0.1"
      ]
    },
    {
      "cell_type": "code",
      "execution_count": 4,
      "metadata": {
        "colab": {
          "base_uri": "https://localhost:8080/"
        },
        "id": "85tMRxVtpgo5",
        "outputId": "739441bb-ad61-4f3b-ee24-77007f6fae6e"
      },
      "outputs": [
        {
          "name": "stderr",
          "output_type": "stream",
          "text": [
            "100%|██████████| 10/10 [00:00<00:00, 30705.01it/s]"
          ]
        },
        {
          "name": "stdout",
          "output_type": "stream",
          "text": [
            "Prediction :  0.53\n",
            "Error :  9.47\n",
            "Updated Weight :  0.22 0.5 0.23 0.4 0.3 0.3\n",
            "==============================\n",
            "Prediction :  3.38\n",
            "Error :  6.62\n",
            "Updated Weight :  0.42 0.7 0.43 0.6 0.5 0.5\n",
            "==============================\n",
            "Prediction :  8.62\n",
            "Error :  1.38\n",
            "Updated Weight :  0.62 0.9 0.63 0.8 0.7 0.7\n",
            "==============================\n",
            "Prediction :  16.27\n",
            "Error :  -6.27\n",
            "Updated Weight :  0.42 0.7 0.43 0.6 0.5 0.5\n",
            "==============================\n",
            "Prediction :  8.62\n",
            "Error :  1.38\n",
            "Updated Weight :  0.62 0.9 0.63 0.8 0.7 0.7\n",
            "==============================\n",
            "Prediction :  16.27\n",
            "Error :  -6.27\n",
            "Updated Weight :  0.42 0.7 0.43 0.6 0.5 0.5\n",
            "==============================\n",
            "Prediction :  8.62\n",
            "Error :  1.38\n",
            "Updated Weight :  0.62 0.9 0.63 0.8 0.7 0.7\n",
            "==============================\n",
            "Prediction :  16.27\n",
            "Error :  -6.27\n",
            "Updated Weight :  0.42 0.7 0.43 0.6 0.5 0.5\n",
            "==============================\n",
            "Prediction :  8.62\n",
            "Error :  1.38\n",
            "Updated Weight :  0.62 0.9 0.63 0.8 0.7 0.7\n",
            "==============================\n",
            "Prediction :  16.27\n",
            "Error :  -6.27\n",
            "Updated Weight :  0.42 0.7 0.43 0.6 0.5 0.5\n",
            "==============================\n"
          ]
        },
        {
          "name": "stderr",
          "output_type": "stream",
          "text": [
            "\n"
          ]
        }
      ],
      "source": [
        "for i in tqdm(range(10)):\n",
        "    prediction = forward_pass(data[0], data[1], w1, w2, w3, w4, w5, w6)\n",
        "    error = calculate_error(actual_output, prediction)\n",
        "    w1, w2, w3, w4, w5, w6 = backward_pass(error, w1, w2, w3, w4, w5, w6)\n",
        "    print(\"Prediction : \", prediction)\n",
        "    print(\"Error : \", error)\n",
        "    print(\"Updated Weight : \", w1, w2, w3, w4, w5, w6)\n",
        "    print(\"==============================\")"
      ]
    },
    {
      "cell_type": "code",
      "execution_count": null,
      "metadata": {
        "id": "q-RAW6-lpglJ"
      },
      "outputs": [],
      "source": []
    },
    {
      "cell_type": "code",
      "execution_count": null,
      "metadata": {
        "id": "w9Nyi7zJpghp"
      },
      "outputs": [],
      "source": []
    },
    {
      "cell_type": "code",
      "execution_count": null,
      "metadata": {
        "id": "3MQNXQ_epgd5"
      },
      "outputs": [],
      "source": []
    },
    {
      "cell_type": "code",
      "execution_count": null,
      "metadata": {
        "id": "G8HFfN23pgZ5"
      },
      "outputs": [],
      "source": []
    },
    {
      "cell_type": "code",
      "execution_count": null,
      "metadata": {
        "id": "8rFLakR-pgWh"
      },
      "outputs": [],
      "source": []
    },
    {
      "cell_type": "code",
      "execution_count": null,
      "metadata": {
        "id": "km65dZuKpgTI"
      },
      "outputs": [],
      "source": []
    },
    {
      "cell_type": "code",
      "execution_count": null,
      "metadata": {
        "id": "gLNwgSFRpgPp"
      },
      "outputs": [],
      "source": []
    },
    {
      "cell_type": "code",
      "execution_count": null,
      "metadata": {
        "id": "RLL_22KjpgMB"
      },
      "outputs": [],
      "source": []
    },
    {
      "cell_type": "code",
      "execution_count": null,
      "metadata": {
        "id": "HfXg9FrMpgIx"
      },
      "outputs": [],
      "source": []
    },
    {
      "cell_type": "code",
      "execution_count": null,
      "metadata": {
        "id": "Xiq0F6kMpgFC"
      },
      "outputs": [],
      "source": []
    },
    {
      "cell_type": "code",
      "execution_count": null,
      "metadata": {
        "id": "JLp02h6tpKUc"
      },
      "outputs": [],
      "source": []
    }
  ],
  "metadata": {
    "colab": {
      "collapsed_sections": [],
      "provenance": []
    },
    "kernelspec": {
      "display_name": "Python 3.10.5 64-bit",
      "language": "python",
      "name": "python3"
    },
    "language_info": {
      "codemirror_mode": {
        "name": "ipython",
        "version": 3
      },
      "file_extension": ".py",
      "mimetype": "text/x-python",
      "name": "python",
      "nbconvert_exporter": "python",
      "pygments_lexer": "ipython3",
      "version": "3.10.5"
    },
    "vscode": {
      "interpreter": {
        "hash": "aee8b7b246df8f9039afb4144a1f6fd8d2ca17a180786b69acc140d282b71a49"
      }
    }
  },
  "nbformat": 4,
  "nbformat_minor": 0
}
